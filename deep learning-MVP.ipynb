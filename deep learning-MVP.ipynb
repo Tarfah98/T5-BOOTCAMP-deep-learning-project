{
 "cells": [
  {
   "cell_type": "markdown",
   "id": "d0aeea88",
   "metadata": {},
   "source": [
    "# 1- Imports"
   ]
  },
  {
   "cell_type": "code",
   "execution_count": null,
   "id": "ef97fb73",
   "metadata": {},
   "outputs": [],
   "source": [
    "import tensorflow\n",
    "import cv2\n",
    "import os\n",
    "import matplotlib.pyplot as plt\n",
    "import pandas as pd\n",
    "import numpy as np"
   ]
  },
  {
   "cell_type": "code",
   "execution_count": null,
   "id": "31c1da18",
   "metadata": {},
   "outputs": [],
   "source": [
    "image_array=cv2.imread(\"dataset/with-mask/00000_Mask.jpg\")"
   ]
  },
  {
   "cell_type": "code",
   "execution_count": null,
   "id": "925be4c7",
   "metadata": {},
   "outputs": [],
   "source": [
    "plt.imshow(image_array)"
   ]
  },
  {
   "cell_type": "code",
   "execution_count": null,
   "id": "d885897a",
   "metadata": {},
   "outputs": [],
   "source": [
    "plt.imshow(cv2.cvtColor(image_array,cv2.COLOR_BGR2RGB))"
   ]
  },
  {
   "cell_type": "code",
   "execution_count": null,
   "id": "325264b0",
   "metadata": {},
   "outputs": [],
   "source": [
    "image_array.shape"
   ]
  },
  {
   "cell_type": "markdown",
   "id": "32c1bcd0",
   "metadata": {},
   "source": [
    "## 2- Uploading the dataset"
   ]
  },
  {
   "cell_type": "code",
   "execution_count": null,
   "id": "d80616c8",
   "metadata": {},
   "outputs": [],
   "source": [
    "datadirectory=\"dataset/\"\n",
    "classes=[\"with-mask\",\"without-mask\"]\n",
    "for category in classes:\n",
    "    path=os.path.join(datadirectory,category)\n",
    "    for img in os.listdir(path):\n",
    "        image_array=cv2.imread(os.path.join(path,img))\n",
    "        plt.imshow(cv2.cvtColor(image_array,cv2.COLOR_BGR2RGB))\n",
    "        plt.show()\n",
    "    \n",
    "     "
   ]
  },
  {
   "cell_type": "code",
   "execution_count": null,
   "id": "0c58fcb9",
   "metadata": {},
   "outputs": [],
   "source": [
    "image_size=224 #resize the images\n",
    "new_array=cv2.resize(image_array,(image_size,image_size))\n",
    "plt.imshow(cv2.cvtColor(new_array,cv2.COLOR_BGR2RGB))\n",
    "plt.show()"
   ]
  },
  {
   "cell_type": "code",
   "execution_count": null,
   "id": "0d07cc5b",
   "metadata": {},
   "outputs": [],
   "source": [
    "image_array.shape"
   ]
  },
  {
   "cell_type": "code",
   "execution_count": null,
   "id": "b1cc7554",
   "metadata": {},
   "outputs": [],
   "source": [
    "new_array.shape"
   ]
  },
  {
   "cell_type": "markdown",
   "id": "83a961a8",
   "metadata": {},
   "source": [
    "## 3- Converting the images into arrays\n"
   ]
  },
  {
   "cell_type": "code",
   "execution_count": null,
   "id": "eb55727c",
   "metadata": {},
   "outputs": [],
   "source": [
    "training_data=[]\n",
    "def create_training_data():\n",
    "    for category in classes:\n",
    "        path=os.path.join(datadirectory,category)\n",
    "        class_num=classes.index(category)\n",
    "        for img in os.listdir(path):\n",
    "            try:\n",
    "                image_array=cv2.imread(os.path.join(path,img))\n",
    "                new_array=cv2.resize(image_array,(image_size,image_size))\n",
    "                training_data.append([new_array,class_num])\n",
    "            except Exception as e:\n",
    "                pass"
   ]
  },
  {
   "cell_type": "code",
   "execution_count": null,
   "id": "ba455803",
   "metadata": {},
   "outputs": [],
   "source": [
    "create_training_data()"
   ]
  },
  {
   "cell_type": "code",
   "execution_count": null,
   "id": "c906c5c7",
   "metadata": {},
   "outputs": [],
   "source": [
    "print(len(training_data))"
   ]
  },
  {
   "cell_type": "code",
   "execution_count": null,
   "id": "2cd8f70f",
   "metadata": {},
   "outputs": [],
   "source": [
    "import random \n",
    "random.shuffle(training_data)"
   ]
  },
  {
   "cell_type": "code",
   "execution_count": null,
   "id": "468f5fa1",
   "metadata": {},
   "outputs": [],
   "source": [
    "X=[]\n",
    "y=[]\n",
    " \n",
    "for features,label in training_data:\n",
    "    X.append(features)\n",
    "    y.append(label)\n",
    "    \n",
    "X=np.array(X).reshape(-1,image_size,image_size,3)\n"
   ]
  },
  {
   "cell_type": "code",
   "execution_count": null,
   "id": "8df6813b",
   "metadata": {},
   "outputs": [],
   "source": [
    "X.shape"
   ]
  },
  {
   "cell_type": "code",
   "execution_count": null,
   "id": "dfad1459",
   "metadata": {},
   "outputs": [],
   "source": [
    "#normalize the data\n",
    "X= X/225.0;"
   ]
  },
  {
   "cell_type": "code",
   "execution_count": null,
   "id": "33cba2b5",
   "metadata": {},
   "outputs": [],
   "source": [
    "y[1000]"
   ]
  },
  {
   "cell_type": "code",
   "execution_count": null,
   "id": "e4c828d8",
   "metadata": {},
   "outputs": [],
   "source": [
    "Y=np.array(y)"
   ]
  },
  {
   "cell_type": "code",
   "execution_count": null,
   "id": "8c09f847",
   "metadata": {},
   "outputs": [],
   "source": []
  }
 ],
 "metadata": {
  "kernelspec": {
   "display_name": "Python 3",
   "language": "python",
   "name": "python3"
  },
  "language_info": {
   "codemirror_mode": {
    "name": "ipython",
    "version": 3
   },
   "file_extension": ".py",
   "mimetype": "text/x-python",
   "name": "python",
   "nbconvert_exporter": "python",
   "pygments_lexer": "ipython3",
   "version": "3.8.8"
  }
 },
 "nbformat": 4,
 "nbformat_minor": 5
}
